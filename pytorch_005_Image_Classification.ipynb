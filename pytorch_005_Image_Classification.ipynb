{
  "nbformat": 4,
  "nbformat_minor": 0,
  "metadata": {
    "colab": {
      "provenance": [],
      "gpuType": "T4",
      "authorship_tag": "ABX9TyMEY1sX2MQUwOpZfLGDRqub",
      "include_colab_link": true
    },
    "kernelspec": {
      "name": "python3",
      "display_name": "Python 3"
    },
    "language_info": {
      "name": "python"
    },
    "accelerator": "GPU"
  },
  "cells": [
    {
      "cell_type": "markdown",
      "metadata": {
        "id": "view-in-github",
        "colab_type": "text"
      },
      "source": [
        "<a href=\"https://colab.research.google.com/github/tikendraw/pytorch-explorations/blob/main/pytorch_005_Image_Classification.ipynb\" target=\"_parent\"><img src=\"https://colab.research.google.com/assets/colab-badge.svg\" alt=\"Open In Colab\"/></a>"
      ]
    },
    {
      "cell_type": "code",
      "execution_count": null,
      "metadata": {
        "id": "GXaWkiJcI8hH"
      },
      "outputs": [],
      "source": [
        "from torch import nn\n",
        "import torch \n",
        "import numpy as np\n",
        "from torchvision import datasets\n",
        "import matplotlib.pyplot as plt\n",
        "from torchvision.transforms import ToTensor\n"
      ]
    },
    {
      "cell_type": "code",
      "source": [
        "import os\n",
        "os.system('git clone https://github.com/tikendraw/pytorch-explorations.git')\n",
        "os.chdir('pytorch-explorations')"
      ],
      "metadata": {
        "id": "Oa7k1SK48pgp"
      },
      "execution_count": null,
      "outputs": []
    },
    {
      "cell_type": "code",
      "source": [
        "from helper_functions import accuracy_fn, print_train_time"
      ],
      "metadata": {
        "id": "rG_0MeRj8-Ty"
      },
      "execution_count": null,
      "outputs": []
    },
    {
      "cell_type": "code",
      "source": [
        "import torchvision as tv"
      ],
      "metadata": {
        "id": "eOi6z2HrJlIZ"
      },
      "execution_count": null,
      "outputs": []
    },
    {
      "cell_type": "code",
      "source": [],
      "metadata": {
        "id": "Yr9CD_MVmkvq"
      },
      "execution_count": null,
      "outputs": []
    },
    {
      "cell_type": "code",
      "source": [
        "device = 'cuda' if torch.cuda.is_available() else 'cpu'\n",
        "device"
      ],
      "metadata": {
        "colab": {
          "base_uri": "https://localhost:8080/",
          "height": 35
        },
        "id": "j3U3K1iWdO_4",
        "outputId": "25a93bd1-625f-4280-d0c6-368d249433be"
      },
      "execution_count": null,
      "outputs": [
        {
          "output_type": "execute_result",
          "data": {
            "text/plain": [
              "'cuda'"
            ],
            "application/vnd.google.colaboratory.intrinsic+json": {
              "type": "string"
            }
          },
          "metadata": {},
          "execution_count": 5
        }
      ]
    },
    {
      "cell_type": "markdown",
      "source": [
        "# Get Data"
      ],
      "metadata": {
        "id": "p_z1Q7S0KCW0"
      }
    },
    {
      "cell_type": "code",
      "source": [
        "train_data = datasets.FashionMNIST(root='data', train = True,\n",
        "                                   transform = tv.transforms.ToTensor(),\n",
        "                                download = True)\n",
        "\n",
        "test_data = datasets.FashionMNIST(root='data', train = False,\n",
        "                                   transform = tv.transforms.ToTensor(),\n",
        "                                download = True)"
      ],
      "metadata": {
        "id": "_rSiKLV3JcQW",
        "colab": {
          "base_uri": "https://localhost:8080/"
        },
        "outputId": "39478709-7744-425d-80d1-c43ec5df7137"
      },
      "execution_count": null,
      "outputs": [
        {
          "output_type": "stream",
          "name": "stdout",
          "text": [
            "Downloading http://fashion-mnist.s3-website.eu-central-1.amazonaws.com/train-images-idx3-ubyte.gz\n",
            "Downloading http://fashion-mnist.s3-website.eu-central-1.amazonaws.com/train-images-idx3-ubyte.gz to data/FashionMNIST/raw/train-images-idx3-ubyte.gz\n"
          ]
        },
        {
          "output_type": "stream",
          "name": "stderr",
          "text": [
            "100%|██████████| 26421880/26421880 [00:00<00:00, 113301104.95it/s]\n"
          ]
        },
        {
          "output_type": "stream",
          "name": "stdout",
          "text": [
            "Extracting data/FashionMNIST/raw/train-images-idx3-ubyte.gz to data/FashionMNIST/raw\n",
            "\n",
            "Downloading http://fashion-mnist.s3-website.eu-central-1.amazonaws.com/train-labels-idx1-ubyte.gz\n",
            "Downloading http://fashion-mnist.s3-website.eu-central-1.amazonaws.com/train-labels-idx1-ubyte.gz to data/FashionMNIST/raw/train-labels-idx1-ubyte.gz\n"
          ]
        },
        {
          "output_type": "stream",
          "name": "stderr",
          "text": [
            "100%|██████████| 29515/29515 [00:00<00:00, 6455046.54it/s]"
          ]
        },
        {
          "output_type": "stream",
          "name": "stdout",
          "text": [
            "Extracting data/FashionMNIST/raw/train-labels-idx1-ubyte.gz to data/FashionMNIST/raw\n",
            "\n",
            "Downloading http://fashion-mnist.s3-website.eu-central-1.amazonaws.com/t10k-images-idx3-ubyte.gz\n",
            "Downloading http://fashion-mnist.s3-website.eu-central-1.amazonaws.com/t10k-images-idx3-ubyte.gz to data/FashionMNIST/raw/t10k-images-idx3-ubyte.gz\n"
          ]
        },
        {
          "output_type": "stream",
          "name": "stderr",
          "text": [
            "\n",
            "100%|██████████| 4422102/4422102 [00:00<00:00, 57523477.86it/s]\n"
          ]
        },
        {
          "output_type": "stream",
          "name": "stdout",
          "text": [
            "Extracting data/FashionMNIST/raw/t10k-images-idx3-ubyte.gz to data/FashionMNIST/raw\n",
            "\n",
            "Downloading http://fashion-mnist.s3-website.eu-central-1.amazonaws.com/t10k-labels-idx1-ubyte.gz\n",
            "Downloading http://fashion-mnist.s3-website.eu-central-1.amazonaws.com/t10k-labels-idx1-ubyte.gz to data/FashionMNIST/raw/t10k-labels-idx1-ubyte.gz\n"
          ]
        },
        {
          "output_type": "stream",
          "name": "stderr",
          "text": [
            "100%|██████████| 5148/5148 [00:00<00:00, 18236720.43it/s]\n"
          ]
        },
        {
          "output_type": "stream",
          "name": "stdout",
          "text": [
            "Extracting data/FashionMNIST/raw/t10k-labels-idx1-ubyte.gz to data/FashionMNIST/raw\n",
            "\n"
          ]
        }
      ]
    },
    {
      "cell_type": "code",
      "source": [
        "len(train_data), len(test_data)"
      ],
      "metadata": {
        "colab": {
          "base_uri": "https://localhost:8080/"
        },
        "id": "7Dzvp2z9J_Vm",
        "outputId": "6a70048b-b227-4efe-b0e9-9429c5b65d0f"
      },
      "execution_count": null,
      "outputs": [
        {
          "output_type": "execute_result",
          "data": {
            "text/plain": [
              "(60000, 10000)"
            ]
          },
          "metadata": {},
          "execution_count": 7
        }
      ]
    },
    {
      "cell_type": "code",
      "source": [
        "train_images , train_labels = train_data.data, train_data.targets\n",
        "test_images , test_labels = test_data.data, test_data.targets"
      ],
      "metadata": {
        "id": "f4jYNOaKKM-h"
      },
      "execution_count": null,
      "outputs": []
    },
    {
      "cell_type": "code",
      "source": [
        "# shape check\n",
        "train_images.shape, train_labels.shape"
      ],
      "metadata": {
        "colab": {
          "base_uri": "https://localhost:8080/"
        },
        "id": "B6ZACTfqKc5d",
        "outputId": "ccf7f96f-c949-4e9e-e341-58b2c00e716d"
      },
      "execution_count": null,
      "outputs": [
        {
          "output_type": "execute_result",
          "data": {
            "text/plain": [
              "(torch.Size([60000, 28, 28]), torch.Size([60000]))"
            ]
          },
          "metadata": {},
          "execution_count": 9
        }
      ]
    },
    {
      "cell_type": "code",
      "source": [
        "# shape check\n",
        "test_images.shape , test_labels.shape"
      ],
      "metadata": {
        "colab": {
          "base_uri": "https://localhost:8080/"
        },
        "id": "bi2Ufi2BKtFk",
        "outputId": "42ff3a5c-10cc-42a2-8fda-26164a543b47"
      },
      "execution_count": null,
      "outputs": [
        {
          "output_type": "execute_result",
          "data": {
            "text/plain": [
              "(torch.Size([10000, 28, 28]), torch.Size([10000]))"
            ]
          },
          "metadata": {},
          "execution_count": 10
        }
      ]
    },
    {
      "cell_type": "code",
      "source": [
        "# to get idx from class\n",
        "class_to_idx = train_data.class_to_idx\n",
        "class_to_idx"
      ],
      "metadata": {
        "colab": {
          "base_uri": "https://localhost:8080/"
        },
        "id": "_IUyCxCwLEIB",
        "outputId": "b31303de-29b5-4724-e4df-b2795d3a26dd"
      },
      "execution_count": null,
      "outputs": [
        {
          "output_type": "execute_result",
          "data": {
            "text/plain": [
              "{'T-shirt/top': 0,\n",
              " 'Trouser': 1,\n",
              " 'Pullover': 2,\n",
              " 'Dress': 3,\n",
              " 'Coat': 4,\n",
              " 'Sandal': 5,\n",
              " 'Shirt': 6,\n",
              " 'Sneaker': 7,\n",
              " 'Bag': 8,\n",
              " 'Ankle boot': 9}"
            ]
          },
          "metadata": {},
          "execution_count": 11
        }
      ]
    },
    {
      "cell_type": "code",
      "source": [
        "# to get class from idx\n",
        "idx_to_class = {idx: value for value, idx in class_to_idx.items()}\n",
        "idx_to_class"
      ],
      "metadata": {
        "colab": {
          "base_uri": "https://localhost:8080/"
        },
        "id": "9f_DtnapLRb7",
        "outputId": "b8dcbe81-f5c5-4b8a-ba39-7119f85513ed"
      },
      "execution_count": null,
      "outputs": [
        {
          "output_type": "execute_result",
          "data": {
            "text/plain": [
              "{0: 'T-shirt/top',\n",
              " 1: 'Trouser',\n",
              " 2: 'Pullover',\n",
              " 3: 'Dress',\n",
              " 4: 'Coat',\n",
              " 5: 'Sandal',\n",
              " 6: 'Shirt',\n",
              " 7: 'Sneaker',\n",
              " 8: 'Bag',\n",
              " 9: 'Ankle boot'}"
            ]
          },
          "metadata": {},
          "execution_count": 12
        }
      ]
    },
    {
      "cell_type": "code",
      "source": [
        "import random"
      ],
      "metadata": {
        "id": "4vYTnT7bNJp6"
      },
      "execution_count": null,
      "outputs": []
    },
    {
      "cell_type": "code",
      "source": [
        "def plot_random(n:int=10):\n",
        "    plt.figure(figsize = (10,30))\n",
        "    for i in range(n):\n",
        "        random_image_idx = random.randint(0, len(train_images))\n",
        "        plt.subplot(n, 5, i+1)\n",
        "        plt.imshow(train_images[random_image_idx])\n",
        "        item_name = idx_to_class[train_labels[random_image_idx].item()]\n",
        "        plt.title(item_name)\n",
        "    plt.tight_layout()"
      ],
      "metadata": {
        "id": "upKr0IlgLfa_"
      },
      "execution_count": null,
      "outputs": []
    },
    {
      "cell_type": "code",
      "source": [
        "# plot_random(n=15)"
      ],
      "metadata": {
        "id": "DWQKtc-0Nf2i"
      },
      "execution_count": null,
      "outputs": []
    },
    {
      "cell_type": "markdown",
      "source": [
        "# DataLoaders"
      ],
      "metadata": {
        "id": "JO4cAX_cPnF-"
      }
    },
    {
      "cell_type": "code",
      "source": [
        "from torch.utils.data import DataLoader"
      ],
      "metadata": {
        "id": "2FCJgrLtTYG4"
      },
      "execution_count": null,
      "outputs": []
    },
    {
      "cell_type": "code",
      "source": [
        "BATCH_SIZE = 32"
      ],
      "metadata": {
        "id": "7gjc_L9aT3yC"
      },
      "execution_count": null,
      "outputs": []
    },
    {
      "cell_type": "code",
      "source": [
        "train_d = DataLoader(train_data, shuffle=True, batch_size =BATCH_SIZE, num_workers=2)\n",
        "test_d = DataLoader(test_data, shuffle=False, batch_size =BATCH_SIZE, num_workers=2)"
      ],
      "metadata": {
        "id": "VhzFJjvOTYED"
      },
      "execution_count": null,
      "outputs": []
    },
    {
      "cell_type": "code",
      "source": [
        "len(train_d), train_d"
      ],
      "metadata": {
        "colab": {
          "base_uri": "https://localhost:8080/"
        },
        "id": "6AUH-tGiUm5N",
        "outputId": "2299fd0f-c9ef-49ee-84e1-918ce4fa03e0"
      },
      "execution_count": null,
      "outputs": [
        {
          "output_type": "execute_result",
          "data": {
            "text/plain": [
              "(1875, <torch.utils.data.dataloader.DataLoader at 0x7f18b7ec8eb0>)"
            ]
          },
          "metadata": {},
          "execution_count": 19
        }
      ]
    },
    {
      "cell_type": "code",
      "source": [
        "def plot_data(dataloader, n = 9, seed: int =None):\n",
        "    \n",
        "    if seed is not None:\n",
        "        torch.manual_seed(seed)\n",
        "\n",
        "    plt.figure(figsize = (10,30))\n",
        "    for i in range(n):\n",
        "        image_batch, label_batch = next(iter(dataloader))\n",
        "\n",
        "        random_image_idx = torch.randint(0, len(image_batch)-1,(1,1)).item()\n",
        "\n",
        "        image =  image_batch[random_image_idx].squeeze() \n",
        "        label = label_batch[random_image_idx].item()\n",
        "\n",
        "        plt.subplot(n, 5, i+1)\n",
        "        plt.imshow(image)\n",
        "        item_name = idx_to_class[label]\n",
        "        plt.title(item_name)\n",
        "    plt.tight_layout()"
      ],
      "metadata": {
        "id": "F1v4-mlSTX7S"
      },
      "execution_count": null,
      "outputs": []
    },
    {
      "cell_type": "code",
      "source": [
        "# plot_data(train_d, n = 15, seed= 44)"
      ],
      "metadata": {
        "id": "kFuJkcGCTX42"
      },
      "execution_count": null,
      "outputs": []
    },
    {
      "cell_type": "markdown",
      "source": [
        "# Model"
      ],
      "metadata": {
        "id": "sFtoR72MTX2y"
      }
    },
    {
      "cell_type": "code",
      "source": [
        "class FashionModel(nn.Module):\n",
        "    def __init__(self, input_features: int, output_features: int , units: int =16):\n",
        "        super().__init__()\n",
        "\n",
        "        self.layer = nn.Sequential(\n",
        "            nn.Flatten(), \n",
        "            nn.Linear(in_features=input_features, out_features=units),\n",
        "            # nn.ReLU(),\n",
        "            nn.Linear(in_features=units, out_features=output_features),\n",
        "            # nn.ReLU()\n",
        "        )\n",
        "\n",
        "    def forward(self, x):\n",
        "        return self.layer(x)"
      ],
      "metadata": {
        "id": "wkhnp2hYTX0u"
      },
      "execution_count": null,
      "outputs": []
    },
    {
      "cell_type": "code",
      "source": [
        "model = FashionModel(input_features = 28*28,\n",
        "                     output_features = 10 , units = 32)"
      ],
      "metadata": {
        "id": "h5pDCZGn7unF"
      },
      "execution_count": null,
      "outputs": []
    },
    {
      "cell_type": "code",
      "source": [
        "model = model.to(device)"
      ],
      "metadata": {
        "id": "zbuXheeig9S2"
      },
      "execution_count": null,
      "outputs": []
    },
    {
      "cell_type": "markdown",
      "source": [
        "# Loss , Optimizer and Metrics"
      ],
      "metadata": {
        "id": "HrZRZCM37uhQ"
      }
    },
    {
      "cell_type": "code",
      "source": [
        "loss_fn = nn.CrossEntropyLoss()\n",
        "optimizer = torch.optim.SGD(params = model.parameters(), lr = .001)\n",
        "# accuracy function is imported from helper_function"
      ],
      "metadata": {
        "id": "CsnsUTH27ufd"
      },
      "execution_count": null,
      "outputs": []
    },
    {
      "cell_type": "code",
      "source": [
        "from timeit import default_timer as timer\n",
        "from tqdm.auto import tqdm"
      ],
      "metadata": {
        "id": "jZLU_NUS7uds"
      },
      "execution_count": null,
      "outputs": []
    },
    {
      "cell_type": "markdown",
      "source": [
        "# Training Loop"
      ],
      "metadata": {
        "id": "GOTAvkMp7ub-"
      }
    },
    {
      "cell_type": "code",
      "source": [
        "def train_loop(model: torch.nn.Module,\n",
        "               data : torch.utils.data.DataLoader,\n",
        "               loss_fn: torch.nn.Module,\n",
        "               optimizer : torch.optim.Optimizer,\n",
        "               accuracy_fn ,\n",
        "               device : torch.device =device):\n",
        "    \n",
        "    start = timer()\n",
        "    train_loss, train_acc = 0, 0\n",
        "\n",
        "    for x, y in data:\n",
        "        x, y = x.to(device), y.to(device)\n",
        "\n",
        "        model.train()\n",
        "\n",
        "        ypred = model(x)\n",
        "\n",
        "        optimizer.zero_grad()\n",
        "\n",
        "        loss = loss_fn(ypred, y)\n",
        "\n",
        "        train_loss += loss.item()\n",
        "        train_acc += accuracy_fn(y_true = y, \n",
        "                                 y_pred = ypred.argmax(dim = -1))\n",
        "\n",
        "        loss.backward()\n",
        "\n",
        "        optimizer.step()\n",
        "\n",
        "    train_loss /= len(data)\n",
        "    train_acc  /= len(data)\n",
        "    end = timer()\n",
        "    print(f\" train loss: {train_loss:.5f}  |  train acc : {train_acc:.5f}%  | time : {end-start:.2f} Sec \", end='\\n')\n",
        "        \n",
        "\n",
        "    \n"
      ],
      "metadata": {
        "id": "2nhaW66aDqsg"
      },
      "execution_count": null,
      "outputs": []
    },
    {
      "cell_type": "code",
      "source": [
        "def test_loop(model: torch.nn.Module,\n",
        "               data : torch.utils.data.DataLoader,\n",
        "               loss_fn: torch.nn.Module,\n",
        "               accuracy_fn ,\n",
        "               device : torch.device =device):\n",
        "    \n",
        "    start = timer()\n",
        "    test_loss, test_acc = 0, 0\n",
        "\n",
        "    for x, y in data:\n",
        "        x, y = x.to(device), y.to(device)\n",
        "\n",
        "        model.eval()\n",
        "        \n",
        "        with torch.inference_mode():\n",
        "            \n",
        "            ypred = model(x)\n",
        "\n",
        "            test_loss += loss_fn(ypred, y).item()\n",
        "            test_acc += accuracy_fn(y_true = y, \n",
        "                                    y_pred = ypred.argmax(dim = -1))\n",
        "\n",
        "\n",
        "    test_loss /= len(data)\n",
        "    test_acc  /= len(data)\n",
        "    end = timer()\n",
        "    print(f\"test loss : {test_loss:.5f}  |  test acc  : {test_acc:.5f}%  | time : {end-start:.2f} Sec \", end='\\n')\n",
        "        \n"
      ],
      "metadata": {
        "id": "U-Q82Wh_M7WX"
      },
      "execution_count": null,
      "outputs": []
    },
    {
      "cell_type": "code",
      "source": [
        "next(model.parameters()).device"
      ],
      "metadata": {
        "colab": {
          "base_uri": "https://localhost:8080/"
        },
        "id": "v4tPd-c6mdrn",
        "outputId": "87c9c076-b83e-4116-edf1-52da3aed928a"
      },
      "execution_count": null,
      "outputs": [
        {
          "output_type": "execute_result",
          "data": {
            "text/plain": [
              "device(type='cuda', index=0)"
            ]
          },
          "metadata": {},
          "execution_count": 29
        }
      ]
    },
    {
      "cell_type": "code",
      "source": [
        "epochs = 3\n",
        "\n",
        "\n",
        "for epoch in range(1,epochs+1):\n",
        "\n",
        "    print(f'Epoch: {epoch:3}/{epochs} | ', end =' ')\n",
        "    train_loop(model, \n",
        "               train_d, \n",
        "               loss_fn,\n",
        "               optimizer,\n",
        "               accuracy_fn,\n",
        "               device)\n",
        "    \n",
        "    print(' '*16, end =' ')\n",
        "    test_loop(model, \n",
        "               test_d, \n",
        "               loss_fn,\n",
        "               accuracy_fn,\n",
        "               device)\n",
        "    # print()"
      ],
      "metadata": {
        "colab": {
          "base_uri": "https://localhost:8080/"
        },
        "id": "trXCAAOT7uZW",
        "outputId": "98aa6803-bbb0-4230-aa35-bf90b4130cd0"
      },
      "execution_count": null,
      "outputs": [
        {
          "output_type": "stream",
          "name": "stdout",
          "text": [
            "Epoch:   1/3 |   train loss: 1.77320  |  train acc : 53.31667%  | time : 20.59 Sec \n",
            "                 test loss : 1.34326  |  test acc  : 63.98762%  | time : 1.85 Sec \n",
            "Epoch:   2/3 |   train loss: 1.13466  |  train acc : 66.55500%  | time : 12.57 Sec \n",
            "                 test loss : 1.00526  |  test acc  : 66.47364%  | time : 1.86 Sec \n",
            "Epoch:   3/3 |   train loss: 0.92023  |  train acc : 69.33333%  | time : 18.25 Sec \n",
            "                 test loss : 0.87217  |  test acc  : 69.54872%  | time : 1.87 Sec \n"
          ]
        }
      ]
    },
    {
      "cell_type": "markdown",
      "source": [
        "# Evaluation"
      ],
      "metadata": {
        "id": "XB1RsiXGBIUd"
      }
    },
    {
      "cell_type": "code",
      "source": [
        "torch.manual_seed(42)\n",
        "def eval_model(model: torch.nn.Module, \n",
        "               data_loader: torch.utils.data.DataLoader, \n",
        "               loss_fn: torch.nn.Module, \n",
        "               accuracy_fn, device):\n",
        "    \"\"\"Returns a dictionary containing the results of model predicting on data_loader.\n",
        "\n",
        "    Args:\n",
        "        model (torch.nn.Module): A PyTorch model capable of making predictions on data_loader.\n",
        "        data_loader (torch.utils.data.DataLoader): The target dataset to predict on.\n",
        "        loss_fn (torch.nn.Module): The loss function of model.\n",
        "        accuracy_fn: An accuracy function to compare the models predictions to the truth labels.\n",
        "\n",
        "    Returns:\n",
        "        (dict): Results of model making predictions on data_loader.\n",
        "    \"\"\"\n",
        "    loss, acc = 0, 0\n",
        "    model.eval()\n",
        "    with torch.inference_mode():\n",
        "        for X, y in data_loader:\n",
        "            X, y = X.to(device), y.to(device)\n",
        "            # Make predictions with the model\n",
        "            y_pred = model(X)\n",
        "            \n",
        "            # Accumulate the loss and accuracy values per batch\n",
        "            loss += loss_fn(y_pred, y)\n",
        "            acc += accuracy_fn(y_true=y, \n",
        "                                y_pred=y_pred.argmax(dim=1)) # For accuracy, need the prediction labels (logits -> pred_prob -> pred_labels)\n",
        "        \n",
        "        # Scale loss and acc to find the average loss/acc per batch\n",
        "        loss /= len(data_loader)\n",
        "        acc /= len(data_loader)\n",
        "        \n",
        "    return {\"model_name\": model.__class__.__name__, # only works when model was created with a class\n",
        "            \"model_loss\": loss.item(),\n",
        "            \"model_acc\": acc}\n"
      ],
      "metadata": {
        "id": "r82iVI-G6TBq"
      },
      "execution_count": null,
      "outputs": []
    },
    {
      "cell_type": "code",
      "source": [
        "# Calculate model 0 results on test dataset\n",
        "model_results = eval_model(model=model, data_loader=test_d,\n",
        "    loss_fn=loss_fn, accuracy_fn=accuracy_fn, device=device\n",
        ")\n",
        "model_results"
      ],
      "metadata": {
        "colab": {
          "base_uri": "https://localhost:8080/"
        },
        "id": "eItAWF646jVB",
        "outputId": "ee7b45a6-2e0e-4fd1-dd93-7219ba01abde"
      },
      "execution_count": null,
      "outputs": [
        {
          "output_type": "execute_result",
          "data": {
            "text/plain": [
              "{'model_name': 'FashionModel',\n",
              " 'model_loss': 0.872168779373169,\n",
              " 'model_acc': 69.54872204472844}"
            ]
          },
          "metadata": {},
          "execution_count": 32
        }
      ]
    },
    {
      "cell_type": "code",
      "source": [
        "\n",
        "all_preds = None\n",
        "all_labels = None\n",
        "\n",
        "model.eval()\n",
        "with torch.inference_mode():\n",
        "    for test_images, test_labels in test_d:\n",
        "        preds = model(test_images.to(device)).cpu()\n",
        "        \n",
        "        if all_preds is None:\n",
        "            all_preds=preds\n",
        "            all_labels = test_labels\n",
        "        else:\n",
        "            all_preds = torch.cat([all_preds, preds], dim=0)\n",
        "\n",
        "            all_labels = torch.cat([all_labels, test_labels], dim=0)\n"
      ],
      "metadata": {
        "id": "2IbfmKJV7uXs"
      },
      "execution_count": null,
      "outputs": []
    },
    {
      "cell_type": "code",
      "source": [
        "print(all_preds.shape)"
      ],
      "metadata": {
        "id": "DFDCdqXJ7uFg",
        "colab": {
          "base_uri": "https://localhost:8080/"
        },
        "outputId": "1ec29ca4-dfda-4f39-8744-8e37de5643fe"
      },
      "execution_count": null,
      "outputs": [
        {
          "output_type": "stream",
          "name": "stdout",
          "text": [
            "torch.Size([10000, 10])\n"
          ]
        }
      ]
    },
    {
      "cell_type": "code",
      "source": [
        "all_preds_argmax = torch.argmax(all_preds, dim = -1)\n",
        "all_preds_argmax.shape"
      ],
      "metadata": {
        "id": "edhy5wEZ7t_B",
        "colab": {
          "base_uri": "https://localhost:8080/"
        },
        "outputId": "46f724db-822e-48c9-dad1-6ba732c182b0"
      },
      "execution_count": null,
      "outputs": [
        {
          "output_type": "execute_result",
          "data": {
            "text/plain": [
              "torch.Size([10000])"
            ]
          },
          "metadata": {},
          "execution_count": 35
        }
      ]
    },
    {
      "cell_type": "code",
      "source": [],
      "metadata": {
        "id": "VyAoT5m6M39j"
      },
      "execution_count": null,
      "outputs": []
    },
    {
      "cell_type": "code",
      "source": [
        "accuracy = accuracy_fn(y_true=all_labels.cpu(), y_pred = all_preds_argmax.cpu())"
      ],
      "metadata": {
        "id": "grAQTF0S7t1b"
      },
      "execution_count": null,
      "outputs": []
    },
    {
      "cell_type": "code",
      "source": [
        "accuracy"
      ],
      "metadata": {
        "id": "hYPETgtS7tzn",
        "colab": {
          "base_uri": "https://localhost:8080/"
        },
        "outputId": "f2f9e46d-0d6c-4b23-95cf-d3d102a0027f"
      },
      "execution_count": null,
      "outputs": [
        {
          "output_type": "execute_result",
          "data": {
            "text/plain": [
              "69.54"
            ]
          },
          "metadata": {},
          "execution_count": 37
        }
      ]
    },
    {
      "cell_type": "markdown",
      "source": [
        "# Model 2"
      ],
      "metadata": {
        "id": "O6ikRBSo7twQ"
      }
    },
    {
      "cell_type": "code",
      "source": [
        "class ConvModel(nn.Module):\n",
        "    def __init__(self, channel_dim,  output_classes, hidden_units, kernel_size=3 ):\n",
        "        super().__init__()\n",
        "\n",
        "        self.conv_layer = nn.Sequential(\n",
        "            nn.Conv2d(in_channels = channel_dim, \n",
        "                      out_channels=hidden_units, \n",
        "                      kernel_size = kernel_size, \n",
        "                      stride = 1, \n",
        "                      padding = 1),\n",
        "            nn.ReLU(),\n",
        "\n",
        "            nn.Conv2d(in_channels = hidden_units, \n",
        "                      out_channels=hidden_units, \n",
        "                      kernel_size = kernel_size, \n",
        "                      stride = 1, \n",
        "                      padding = 1),\n",
        "            nn.ReLU(),\n",
        "            \n",
        "            nn.MaxPool2d(kernel_size = kernel_size, stride =1, padding=1),\n",
        "\n",
        "        )\n",
        "\n",
        "        self.conv_layer2 =  nn.Sequential(\n",
        "            nn.Conv2d(in_channels = hidden_units, \n",
        "                      out_channels=hidden_units, \n",
        "                      kernel_size = kernel_size, \n",
        "                      stride = 1, \n",
        "                      padding = 1),\n",
        "            nn.ReLU(),\n",
        "\n",
        "            nn.Conv2d(in_channels = hidden_units, \n",
        "                      out_channels=hidden_units, \n",
        "                      kernel_size = kernel_size, \n",
        "                      stride = 1, \n",
        "                      padding = 1),\n",
        "            nn.ReLU(),\n",
        "            \n",
        "            nn.MaxPool2d(kernel_size = kernel_size, stride =1, padding=1),\n",
        "\n",
        "        )\n",
        "\n",
        "        self.classifier_layer = nn.Sequential(\n",
        "            nn.Flatten(),\n",
        "            nn.Linear(in_features=(28*28*hidden_units), out_features = output_classes),\n",
        "            nn.Softmax(dim=-1)\n",
        "        )\n",
        "\n",
        "\n",
        "    def forward(self, x):\n",
        "        x=  self.conv_layer(x)\n",
        "        # print('layer 1 shape: ', x.shape)\n",
        "        \n",
        "        x=  self.conv_layer2(x)\n",
        "        # print('layer 2 shape: ', x.shape)\n",
        "\n",
        "        x= self.classifier_layer(x)\n",
        "        return x"
      ],
      "metadata": {
        "id": "171OXhXG7tte"
      },
      "execution_count": null,
      "outputs": []
    },
    {
      "cell_type": "code",
      "source": [
        "model = ConvModel(channel_dim = 1, output_classes = 10, hidden_units = 8).to(device)"
      ],
      "metadata": {
        "id": "N7bcNuOi7trD"
      },
      "execution_count": null,
      "outputs": []
    },
    {
      "cell_type": "code",
      "source": [
        "images, lables = next(iter(train_d))"
      ],
      "metadata": {
        "id": "tZC3lNo-7tpF"
      },
      "execution_count": null,
      "outputs": []
    },
    {
      "cell_type": "code",
      "source": [
        "images = images.to(device)"
      ],
      "metadata": {
        "id": "uqwLHlR77tnZ"
      },
      "execution_count": null,
      "outputs": []
    },
    {
      "cell_type": "code",
      "source": [
        "images.shape"
      ],
      "metadata": {
        "colab": {
          "base_uri": "https://localhost:8080/"
        },
        "id": "nAOa07bVKcHA",
        "outputId": "eaa72f18-8037-4beb-d1dc-edf0716cace1"
      },
      "execution_count": null,
      "outputs": [
        {
          "output_type": "execute_result",
          "data": {
            "text/plain": [
              "torch.Size([32, 1, 28, 28])"
            ]
          },
          "metadata": {},
          "execution_count": 48
        }
      ]
    },
    {
      "cell_type": "code",
      "source": [
        "out_images = model(images)"
      ],
      "metadata": {
        "id": "M_ufXMfZ7tlG"
      },
      "execution_count": null,
      "outputs": []
    },
    {
      "cell_type": "code",
      "source": [
        "out_images.shape"
      ],
      "metadata": {
        "id": "go29HVif7tjW",
        "colab": {
          "base_uri": "https://localhost:8080/"
        },
        "outputId": "61375f92-e369-4c35-dec2-7d7438acf710"
      },
      "execution_count": null,
      "outputs": [
        {
          "output_type": "execute_result",
          "data": {
            "text/plain": [
              "torch.Size([32, 10])"
            ]
          },
          "metadata": {},
          "execution_count": 45
        }
      ]
    },
    {
      "cell_type": "code",
      "source": [
        "# plt.figure(figsize = (20, 30))\n",
        "\n",
        "# plot_n = 1\n",
        "# for i in range(8):\n",
        "#     for j in out_images[i]:\n",
        "#         plt.subplot(32,8,plot_n)\n",
        "#         plot_n += 1\n",
        "#         plt.imshow(j.detach().numpy().squeeze())\n",
        "\n",
        "# plt.tight_layout()"
      ],
      "metadata": {
        "id": "hotjWEme7thH"
      },
      "execution_count": null,
      "outputs": []
    },
    {
      "cell_type": "markdown",
      "source": [
        "# Training"
      ],
      "metadata": {
        "id": "Niyu59KI7tdT"
      }
    },
    {
      "cell_type": "code",
      "source": [
        "device"
      ],
      "metadata": {
        "colab": {
          "base_uri": "https://localhost:8080/",
          "height": 35
        },
        "id": "dYMm1LdTaeoa",
        "outputId": "9eb41a06-9629-465c-9f72-86a05f6ba136"
      },
      "execution_count": null,
      "outputs": [
        {
          "output_type": "execute_result",
          "data": {
            "text/plain": [
              "'cuda'"
            ],
            "application/vnd.google.colaboratory.intrinsic+json": {
              "type": "string"
            }
          },
          "metadata": {},
          "execution_count": 49
        }
      ]
    },
    {
      "cell_type": "code",
      "source": [
        "loss_fn = nn.CrossEntropyLoss()\n",
        "optimizer = torch.optim.SGD(params = model.parameters(), lr = .05)\n",
        "# accuracy function is imported from helper_function"
      ],
      "metadata": {
        "id": "IX4FTQa4b3EC"
      },
      "execution_count": null,
      "outputs": []
    },
    {
      "cell_type": "code",
      "source": [
        "epochs = 20\n",
        "\n",
        "\n",
        "for epoch in range(1,epochs+1):\n",
        "\n",
        "    print(f'Epoch: {epoch:3}/{epochs} | ', end =' ')\n",
        "    train_loop(model, \n",
        "               train_d, \n",
        "               loss_fn,\n",
        "               optimizer,\n",
        "               accuracy_fn,\n",
        "               device)\n",
        "    \n",
        "    print(' '*17, end =' ')\n",
        "    test_loop(model, \n",
        "               test_d, \n",
        "               loss_fn,\n",
        "               accuracy_fn,\n",
        "               device)\n",
        "    # print()"
      ],
      "metadata": {
        "id": "P-39OpHQ7tbf",
        "colab": {
          "base_uri": "https://localhost:8080/"
        },
        "outputId": "c6023195-9b11-4851-f3d4-c45bbdb499d0"
      },
      "execution_count": null,
      "outputs": [
        {
          "output_type": "stream",
          "name": "stdout",
          "text": [
            "Epoch:   1/20 |   train loss: 1.97841  |  train acc : 47.93167%  | time : 15.53 Sec \n",
            "                  test loss : 1.91585  |  test acc  : 54.46286%  | time : 2.07 Sec \n",
            "Epoch:   2/20 |   train loss: 1.88255  |  train acc : 57.70833%  | time : 15.02 Sec \n",
            "                  test loss : 1.81348  |  test acc  : 64.51677%  | time : 2.04 Sec \n",
            "Epoch:   3/20 |   train loss: 1.78314  |  train acc : 67.73500%  | time : 16.35 Sec \n",
            "                  test loss : 1.77394  |  test acc  : 68.56030%  | time : 2.10 Sec \n",
            "Epoch:   4/20 |   train loss: 1.76604  |  train acc : 69.38500%  | time : 15.00 Sec \n",
            "                  test loss : 1.76524  |  test acc  : 69.55871%  | time : 2.07 Sec \n",
            "Epoch:   5/20 |   train loss: 1.75630  |  train acc : 70.37833%  | time : 15.16 Sec \n",
            "                  test loss : 1.75716  |  test acc  : 70.30751%  | time : 3.47 Sec \n",
            "Epoch:   6/20 |   train loss: 1.74931  |  train acc : 71.06000%  | time : 15.91 Sec \n",
            "                  test loss : 1.75746  |  test acc  : 70.31749%  | time : 2.10 Sec \n",
            "Epoch:   7/20 |   train loss: 1.74208  |  train acc : 71.79833%  | time : 14.88 Sec \n",
            "                  test loss : 1.74602  |  test acc  : 71.33586%  | time : 2.27 Sec \n",
            "Epoch:   8/20 |   train loss: 1.73975  |  train acc : 72.00833%  | time : 16.42 Sec \n",
            "                  test loss : 1.74119  |  test acc  : 71.85503%  | time : 2.49 Sec \n",
            "Epoch:   9/20 |   train loss: 1.73564  |  train acc : 72.41667%  | time : 15.09 Sec \n",
            "                  test loss : 1.74049  |  test acc  : 71.81510%  | time : 2.08 Sec \n",
            "Epoch:  10/20 |   train loss: 1.73319  |  train acc : 72.68000%  | time : 15.84 Sec \n",
            "                  test loss : 1.73571  |  test acc  : 72.33427%  | time : 2.40 Sec \n",
            "Epoch:  11/20 |   train loss: 1.64590  |  train acc : 81.52667%  | time : 15.28 Sec \n",
            "                  test loss : 1.64882  |  test acc  : 81.16014%  | time : 2.08 Sec \n",
            "Epoch:  12/20 |   train loss: 1.63861  |  train acc : 82.21667%  | time : 15.22 Sec \n",
            "                  test loss : 1.64861  |  test acc  : 81.22005%  | time : 2.53 Sec \n",
            "Epoch:  13/20 |   train loss: 1.63649  |  train acc : 82.43500%  | time : 15.60 Sec \n",
            "                  test loss : 1.64323  |  test acc  : 81.76917%  | time : 2.08 Sec \n",
            "Epoch:  14/20 |   train loss: 1.63573  |  train acc : 82.47833%  | time : 15.09 Sec \n",
            "                  test loss : 1.67606  |  test acc  : 78.48442%  | time : 2.10 Sec \n",
            "Epoch:  15/20 |   train loss: 1.63355  |  train acc : 82.72833%  | time : 15.69 Sec \n",
            "                  test loss : 1.64566  |  test acc  : 81.45966%  | time : 2.56 Sec \n",
            "Epoch:  16/20 |   train loss: 1.63278  |  train acc : 82.80000%  | time : 15.15 Sec \n",
            "                  test loss : 1.63717  |  test acc  : 82.32827%  | time : 2.11 Sec \n",
            "Epoch:  17/20 |   train loss: 1.63133  |  train acc : 82.94667%  | time : 15.10 Sec \n",
            "                  test loss : 1.64074  |  test acc  : 81.98882%  | time : 2.44 Sec \n",
            "Epoch:  18/20 |   train loss: 1.63152  |  train acc : 82.92000%  | time : 15.80 Sec \n",
            "                  test loss : 1.64684  |  test acc  : 81.45966%  | time : 2.10 Sec \n",
            "Epoch:  19/20 |   train loss: 1.62927  |  train acc : 83.12333%  | time : 15.16 Sec \n",
            "                  test loss : 1.63832  |  test acc  : 82.21845%  | time : 2.08 Sec \n",
            "Epoch:  20/20 |   train loss: 1.62861  |  train acc : 83.22000%  | time : 15.29 Sec \n",
            "                  test loss : 1.63839  |  test acc  : 82.11861%  | time : 2.85 Sec \n"
          ]
        }
      ]
    },
    {
      "cell_type": "code",
      "source": [
        "# Calculate model 0 results on test dataset\n",
        "model_results = eval_model(model=model, data_loader=test_d,\n",
        "    loss_fn=loss_fn, accuracy_fn=accuracy_fn, device=device\n",
        ")\n",
        "model_results"
      ],
      "metadata": {
        "id": "p9YlgBMm7tZg",
        "colab": {
          "base_uri": "https://localhost:8080/"
        },
        "outputId": "3d91b978-fbab-491f-abe8-fd96cca88f2b"
      },
      "execution_count": null,
      "outputs": [
        {
          "output_type": "execute_result",
          "data": {
            "text/plain": [
              "{'model_name': 'ConvModel',\n",
              " 'model_loss': 1.6383897066116333,\n",
              " 'model_acc': 82.11861022364218}"
            ]
          },
          "metadata": {},
          "execution_count": 52
        }
      ]
    },
    {
      "cell_type": "code",
      "source": [],
      "metadata": {
        "id": "LDKhgra07tX-"
      },
      "execution_count": null,
      "outputs": []
    },
    {
      "cell_type": "code",
      "source": [],
      "metadata": {
        "id": "pAMNCExT7tVc"
      },
      "execution_count": null,
      "outputs": []
    },
    {
      "cell_type": "code",
      "source": [],
      "metadata": {
        "id": "wVQOMIRJ7tUD"
      },
      "execution_count": null,
      "outputs": []
    },
    {
      "cell_type": "code",
      "source": [],
      "metadata": {
        "id": "eMy4fGbT7tRx"
      },
      "execution_count": null,
      "outputs": []
    },
    {
      "cell_type": "code",
      "source": [],
      "metadata": {
        "id": "8hFSD8uj7tQb"
      },
      "execution_count": null,
      "outputs": []
    },
    {
      "cell_type": "code",
      "source": [],
      "metadata": {
        "id": "YEts49TA7tOK"
      },
      "execution_count": null,
      "outputs": []
    },
    {
      "cell_type": "code",
      "source": [],
      "metadata": {
        "id": "XWV_Wjdd7tMd"
      },
      "execution_count": null,
      "outputs": []
    },
    {
      "cell_type": "code",
      "source": [],
      "metadata": {
        "id": "WEVrUCsm7tJ5"
      },
      "execution_count": null,
      "outputs": []
    },
    {
      "cell_type": "code",
      "source": [],
      "metadata": {
        "id": "NPXbc_tB7tIE"
      },
      "execution_count": null,
      "outputs": []
    },
    {
      "cell_type": "code",
      "source": [],
      "metadata": {
        "id": "MQLodOAg7tGB"
      },
      "execution_count": null,
      "outputs": []
    },
    {
      "cell_type": "code",
      "source": [],
      "metadata": {
        "id": "EAwcaeEs7tDg"
      },
      "execution_count": null,
      "outputs": []
    },
    {
      "cell_type": "code",
      "source": [],
      "metadata": {
        "id": "d5t-SSH97tBz"
      },
      "execution_count": null,
      "outputs": []
    },
    {
      "cell_type": "code",
      "source": [],
      "metadata": {
        "id": "HE8PfxBe7s_R"
      },
      "execution_count": null,
      "outputs": []
    },
    {
      "cell_type": "code",
      "source": [],
      "metadata": {
        "id": "VNhrqZwh7s8g"
      },
      "execution_count": null,
      "outputs": []
    },
    {
      "cell_type": "code",
      "source": [],
      "metadata": {
        "id": "aF7NlsZi7s6E"
      },
      "execution_count": null,
      "outputs": []
    },
    {
      "cell_type": "code",
      "source": [],
      "metadata": {
        "id": "glk8ZxO47s3F"
      },
      "execution_count": null,
      "outputs": []
    },
    {
      "cell_type": "code",
      "source": [],
      "metadata": {
        "id": "7qyYGuzt7szk"
      },
      "execution_count": null,
      "outputs": []
    },
    {
      "cell_type": "code",
      "source": [],
      "metadata": {
        "id": "ymG7VEBr7sxb"
      },
      "execution_count": null,
      "outputs": []
    },
    {
      "cell_type": "code",
      "source": [],
      "metadata": {
        "id": "cVC75MJ77srd"
      },
      "execution_count": null,
      "outputs": []
    },
    {
      "cell_type": "code",
      "source": [],
      "metadata": {
        "id": "Szp77bMa7snK"
      },
      "execution_count": null,
      "outputs": []
    },
    {
      "cell_type": "code",
      "source": [],
      "metadata": {
        "id": "ULJ0yBnT7skg"
      },
      "execution_count": null,
      "outputs": []
    },
    {
      "cell_type": "code",
      "source": [],
      "metadata": {
        "id": "IAu5ZKjy7sh3"
      },
      "execution_count": null,
      "outputs": []
    },
    {
      "cell_type": "code",
      "source": [],
      "metadata": {
        "id": "rUwQ6JKw7sfA"
      },
      "execution_count": null,
      "outputs": []
    },
    {
      "cell_type": "code",
      "source": [],
      "metadata": {
        "id": "PVY4PJzi7sco"
      },
      "execution_count": null,
      "outputs": []
    },
    {
      "cell_type": "code",
      "source": [],
      "metadata": {
        "id": "eVWGXSr67saB"
      },
      "execution_count": null,
      "outputs": []
    },
    {
      "cell_type": "code",
      "source": [],
      "metadata": {
        "id": "4gufRtP87sXg"
      },
      "execution_count": null,
      "outputs": []
    },
    {
      "cell_type": "code",
      "source": [],
      "metadata": {
        "id": "Be7o8MBy7sVL"
      },
      "execution_count": null,
      "outputs": []
    },
    {
      "cell_type": "code",
      "source": [],
      "metadata": {
        "id": "zr7G9djoTXsi"
      },
      "execution_count": null,
      "outputs": []
    },
    {
      "cell_type": "code",
      "source": [],
      "metadata": {
        "id": "EnoddYsmTXqT"
      },
      "execution_count": null,
      "outputs": []
    },
    {
      "cell_type": "code",
      "source": [],
      "metadata": {
        "id": "7qgLUbZZTXoi"
      },
      "execution_count": null,
      "outputs": []
    },
    {
      "cell_type": "code",
      "source": [],
      "metadata": {
        "id": "zG_X7qLtTXmi"
      },
      "execution_count": null,
      "outputs": []
    },
    {
      "cell_type": "code",
      "source": [],
      "metadata": {
        "id": "mguoh-DZTXki"
      },
      "execution_count": null,
      "outputs": []
    },
    {
      "cell_type": "code",
      "source": [],
      "metadata": {
        "id": "o09pNglqTXi7"
      },
      "execution_count": null,
      "outputs": []
    },
    {
      "cell_type": "code",
      "source": [],
      "metadata": {
        "id": "QfJ3AV21TXg0"
      },
      "execution_count": null,
      "outputs": []
    }
  ]
}